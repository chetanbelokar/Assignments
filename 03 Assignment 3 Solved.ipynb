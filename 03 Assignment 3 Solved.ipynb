{
 "cells": [
  {
   "cell_type": "markdown",
   "id": "13d63d4d",
   "metadata": {},
   "source": [
    "# Assignment No 3"
   ]
  },
  {
   "cell_type": "markdown",
   "id": "485ef111",
   "metadata": {},
   "source": [
    "### Q1"
   ]
  },
  {
   "cell_type": "raw",
   "id": "1ff8f04b",
   "metadata": {},
   "source": [
    "1. Why are functions advantageous to have in your programs?"
   ]
  },
  {
   "cell_type": "raw",
   "id": "4b9d86f8",
   "metadata": {},
   "source": [
    "Answer:\n",
    "\n",
    "1)Functions avoid rewriting the same code multiple times.\n",
    "2)We can call same code any number of times\n",
    "3)Functions make code shorter and saves time to write code.\n",
    "4) Use of functions make code more readable.\n"
   ]
  },
  {
   "cell_type": "markdown",
   "id": "b36180f3",
   "metadata": {},
   "source": [
    "### Q2"
   ]
  },
  {
   "cell_type": "raw",
   "id": "0a4587d2",
   "metadata": {},
   "source": [
    "2. When does the code in a function run: when it's specified or when it's called?"
   ]
  },
  {
   "cell_type": "code",
   "execution_count": null,
   "id": "a749652b",
   "metadata": {},
   "outputs": [],
   "source": [
    "Answer:\n",
    "\n",
    "The code in a function runs only when the function is called.\n",
    "\n",
    "But before that we have define function first and specify code in the body of function.\n",
    "\n",
    "\n",
    "Ex:\n",
    "\n",
    "def my_function():                                     # creation (specifying) a function\n",
    "    print('We are in the function')                    # Function body \n",
    "    \n",
    "my_function()                                          # calling of function"
   ]
  },
  {
   "cell_type": "markdown",
   "id": "89668fba",
   "metadata": {},
   "source": [
    "### Q3"
   ]
  },
  {
   "cell_type": "raw",
   "id": "421c30b5",
   "metadata": {},
   "source": [
    "3. What statement creates a function?"
   ]
  },
  {
   "cell_type": "code",
   "execution_count": null,
   "id": "c77650f1",
   "metadata": {},
   "outputs": [],
   "source": [
    "Answer:\n",
    "    \n",
    "The keyword 'def' is used to create function\n",
    "\n",
    "Ex:\n",
    "\n",
    "\n",
    "def my_function():                                     # creation of a function with keyword 'def'\n",
    "    print('We are in the function')                    # Function body \n",
    "    \n",
    "my_function()                                          # calling of function"
   ]
  },
  {
   "cell_type": "markdown",
   "id": "d6baed71",
   "metadata": {},
   "source": [
    "### Q4"
   ]
  },
  {
   "cell_type": "raw",
   "id": "37b97170",
   "metadata": {},
   "source": [
    "4. What is the difference between a function and a function call?"
   ]
  },
  {
   "cell_type": "code",
   "execution_count": null,
   "id": "d6565de6",
   "metadata": {},
   "outputs": [],
   "source": [
    "Once you have defined a function, you can call it in your code as many times as you need. \n",
    "Calling means using the function.\n",
    "To call a function in Python, you simply type the name of the function followed by parentheses ().\n",
    "\n",
    "Ex :\n",
    "    \n",
    "def my_function():                                     # creation of a function with keyword 'def'\n",
    "    print('We are in the function')                    # Function body \n",
    "    \n",
    "my_function()                                          # calling of function"
   ]
  },
  {
   "cell_type": "markdown",
   "id": "4a004964",
   "metadata": {},
   "source": [
    "### Q5"
   ]
  },
  {
   "cell_type": "raw",
   "id": "23bdb047",
   "metadata": {},
   "source": [
    "5. How many global scopes are there in a Python program? How many local scopes?"
   ]
  },
  {
   "cell_type": "code",
   "execution_count": null,
   "id": "0804cf0a",
   "metadata": {},
   "outputs": [],
   "source": [
    "Answera:\n",
    "    \n",
    "A variable created in the main body of the Python code is a global variable and belongs to the global scope.\n",
    "There is only one global scope.\n",
    "Global variables are available from within any scope, global and local.\n",
    "\n",
    "\n",
    "Local variables are those that are initialized within a function and are unique to that function. \n",
    "It cannot be accessed outside of the function.\n",
    "\n",
    "\n",
    "The local scope or function scope is a Python scope created at function calls.\n",
    "The time we call function, the number will be of local scope."
   ]
  },
  {
   "cell_type": "markdown",
   "id": "619d2dc6",
   "metadata": {},
   "source": [
    "### Q6"
   ]
  },
  {
   "cell_type": "raw",
   "id": "462c4adf",
   "metadata": {},
   "source": [
    "6. What happens to variables in a local scope when the function call returns?"
   ]
  },
  {
   "cell_type": "code",
   "execution_count": null,
   "id": "f98ce293",
   "metadata": {},
   "outputs": [],
   "source": [
    "Answer:\n",
    "\n",
    "When return is called, local scope get terminated and local variables get cleared from memory."
   ]
  },
  {
   "cell_type": "markdown",
   "id": "2f72cabc",
   "metadata": {},
   "source": [
    "### Q7"
   ]
  },
  {
   "cell_type": "raw",
   "id": "743ab433",
   "metadata": {},
   "source": [
    "7. What is the concept of a return value? Is it possible to have a return value in an expression?"
   ]
  },
  {
   "cell_type": "code",
   "execution_count": null,
   "id": "7d6268ad",
   "metadata": {},
   "outputs": [],
   "source": [
    "Answer:\n",
    "    \n",
    "when we call any function and it return cetrtain output , this will be return value of theat function.\n",
    "keyword 'return' is used for this purpose.\n",
    "\n",
    "Yes, it is possible to have a return value in an expression."
   ]
  },
  {
   "cell_type": "markdown",
   "id": "e56a15a7",
   "metadata": {},
   "source": [
    "### Q8"
   ]
  },
  {
   "cell_type": "raw",
   "id": "0b759c5a",
   "metadata": {},
   "source": [
    "8. If a function does not have a return statement, what is the return value of a call to that function?"
   ]
  },
  {
   "cell_type": "code",
   "execution_count": null,
   "id": "2cd7d1fd",
   "metadata": {},
   "outputs": [],
   "source": [
    "Answer:\n",
    "\n",
    "It will return 'None'"
   ]
  },
  {
   "cell_type": "markdown",
   "id": "42bfe993",
   "metadata": {},
   "source": [
    "### Q9"
   ]
  },
  {
   "cell_type": "raw",
   "id": "8ec3785f",
   "metadata": {},
   "source": [
    "9. How do you make a function variable refer to the global variable?"
   ]
  },
  {
   "cell_type": "code",
   "execution_count": null,
   "id": "721e51e9",
   "metadata": {},
   "outputs": [],
   "source": [
    "Answer:\n",
    "    \n",
    "To make a function variable as a global variable we can use the 'global' keyword"
   ]
  },
  {
   "cell_type": "markdown",
   "id": "28cdb4d2",
   "metadata": {},
   "source": [
    "### Q10"
   ]
  },
  {
   "cell_type": "raw",
   "id": "7c609f57",
   "metadata": {},
   "source": [
    "10. What is the data type of None?"
   ]
  },
  {
   "cell_type": "raw",
   "id": "e606a3b9",
   "metadata": {},
   "source": [
    "Answer:\n",
    "    \n",
    "NoneType"
   ]
  },
  {
   "cell_type": "markdown",
   "id": "33a1911f",
   "metadata": {},
   "source": [
    "### Q11"
   ]
  },
  {
   "cell_type": "raw",
   "id": "da984950",
   "metadata": {},
   "source": [
    "11. What does the sentence import areallyourpetsnamederic do?"
   ]
  },
  {
   "cell_type": "code",
   "execution_count": null,
   "id": "56ac3032",
   "metadata": {},
   "outputs": [],
   "source": [
    "Answer:\n",
    "    \n",
    "It will import module named areallyourpetsnamederic"
   ]
  },
  {
   "cell_type": "markdown",
   "id": "94f019c5",
   "metadata": {},
   "source": [
    "### Q12"
   ]
  },
  {
   "cell_type": "raw",
   "id": "907f5146",
   "metadata": {},
   "source": [
    "12. If you had a bacon() feature in a spam module, what would you call it after importing spam?"
   ]
  },
  {
   "cell_type": "code",
   "execution_count": null,
   "id": "ef85c4e4",
   "metadata": {},
   "outputs": [],
   "source": [
    "Answer:\n",
    "    \n",
    "bacon.spam()"
   ]
  },
  {
   "cell_type": "markdown",
   "id": "65b69365",
   "metadata": {},
   "source": [
    "### Q13"
   ]
  },
  {
   "cell_type": "raw",
   "id": "1baf2c8f",
   "metadata": {},
   "source": [
    "13. What can you do to save a programme from crashing if it encounters an error?"
   ]
  },
  {
   "cell_type": "code",
   "execution_count": null,
   "id": "55ec8c7d",
   "metadata": {},
   "outputs": [],
   "source": [
    "Answer:\n",
    "\n",
    "We can save programme from crashing with:\n",
    "    \n",
    "    1)By handling error with exception handeling  (With Try block)\n",
    "    2)By debugging"
   ]
  },
  {
   "cell_type": "markdown",
   "id": "56dd1410",
   "metadata": {},
   "source": [
    "### Q14"
   ]
  },
  {
   "cell_type": "raw",
   "id": "a416a554",
   "metadata": {},
   "source": [
    "14. What is the purpose of the try clause? What is the purpose of the except clause?"
   ]
  },
  {
   "cell_type": "code",
   "execution_count": null,
   "id": "78aa8d04",
   "metadata": {},
   "outputs": [],
   "source": [
    "Answer:\n",
    "\n",
    "For handling error, we use exception handeling.\n",
    "In this there are try & except blocks.\n",
    "\n",
    "First try block executs , if there is no error try will be executed completely and , except clause will not execute.\n",
    "If any error occurs, the try block will be skipped and except block will run.\n",
    "\n",
    "With this we can handle error and can also give message as per errors."
   ]
  }
 ],
 "metadata": {
  "kernelspec": {
   "display_name": "Python 3 (ipykernel)",
   "language": "python",
   "name": "python3"
  },
  "language_info": {
   "codemirror_mode": {
    "name": "ipython",
    "version": 3
   },
   "file_extension": ".py",
   "mimetype": "text/x-python",
   "name": "python",
   "nbconvert_exporter": "python",
   "pygments_lexer": "ipython3",
   "version": "3.11.3"
  }
 },
 "nbformat": 4,
 "nbformat_minor": 5
}
