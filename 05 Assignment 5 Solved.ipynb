{
 "cells": [
  {
   "cell_type": "markdown",
   "id": "18db939c",
   "metadata": {},
   "source": [
    "# Assignment No 5"
   ]
  },
  {
   "cell_type": "markdown",
   "id": "16b4f02c",
   "metadata": {},
   "source": [
    "### Q1"
   ]
  },
  {
   "cell_type": "raw",
   "id": "ed430257",
   "metadata": {},
   "source": [
    "1. What does an empty dictionary's code look like?"
   ]
  },
  {
   "cell_type": "raw",
   "id": "6345f618",
   "metadata": {},
   "source": [
    "Answer:\n",
    "Empty dictionary's code look like closed curly braces\n",
    "\n",
    "Ex : \n",
    "dict1 = {}"
   ]
  },
  {
   "cell_type": "markdown",
   "id": "ea38401f",
   "metadata": {},
   "source": [
    "### Q2"
   ]
  },
  {
   "cell_type": "raw",
   "id": "1e34026e",
   "metadata": {},
   "source": [
    "2. What is the value of a dictionary value with the key 'foo' and the value 42?"
   ]
  },
  {
   "cell_type": "code",
   "execution_count": 2,
   "id": "6c2d4f89",
   "metadata": {},
   "outputs": [
    {
     "data": {
      "text/plain": [
       "{'foo': 42}"
      ]
     },
     "execution_count": 2,
     "metadata": {},
     "output_type": "execute_result"
    }
   ],
   "source": [
    "Answer:\n",
    "    \n",
    "dict1 = {'foo' : 42}\n",
    "dict1"
   ]
  },
  {
   "cell_type": "code",
   "execution_count": null,
   "id": "29aa0798",
   "metadata": {},
   "outputs": [],
   "source": [
    "value of a dictionary ==> {'foo' : 42}"
   ]
  },
  {
   "cell_type": "markdown",
   "id": "0b4b6df8",
   "metadata": {},
   "source": [
    "### Q3"
   ]
  },
  {
   "cell_type": "raw",
   "id": "c6a7452f",
   "metadata": {},
   "source": [
    "3. What is the most significant distinction between a dictionary and a list?"
   ]
  },
  {
   "cell_type": "code",
   "execution_count": null,
   "id": "189d75ea",
   "metadata": {},
   "outputs": [],
   "source": [
    "Answer:\n",
    " \n",
    "Main differences are:\n",
    "    \n",
    "Lists are orders, mutable, and can contain duplicate values.\n",
    "The entered order of elements is always maintained.\n",
    "We can create by [ ] and separating them using “,” commas.\n",
    "\n",
    "\n",
    "Dictionaries are unordered and mutable but they cannot contain duplicate keys.\n",
    "We don’t have any guarantee of maintaining the order of the available elements.\n",
    "We can create a dictionary by { } in the form of a key:vale and separate using the “,” commas."
   ]
  },
  {
   "cell_type": "markdown",
   "id": "c321741e",
   "metadata": {},
   "source": [
    "### Q4"
   ]
  },
  {
   "cell_type": "raw",
   "id": "02df0d76",
   "metadata": {},
   "source": [
    "4. What happens if you try to access spam['foo'] if spam is {'bar': 100}?"
   ]
  },
  {
   "cell_type": "code",
   "execution_count": null,
   "id": "c54be894",
   "metadata": {},
   "outputs": [],
   "source": [
    "Answer:\n",
    "    \n",
    "It will give error.\n",
    "\n",
    "Because, dictionary spam dont have key 'foo'"
   ]
  },
  {
   "cell_type": "markdown",
   "id": "688bf8f4",
   "metadata": {},
   "source": [
    "### Q5"
   ]
  },
  {
   "cell_type": "raw",
   "id": "d37081a7",
   "metadata": {},
   "source": [
    "5. If a dictionary is stored in spam, what is the difference between the expressions 'cat' in spam and 'cat' in spam.keys()?"
   ]
  },
  {
   "cell_type": "code",
   "execution_count": 6,
   "id": "2a9926d4",
   "metadata": {},
   "outputs": [
    {
     "data": {
      "text/plain": [
       "{'cat': 100}"
      ]
     },
     "execution_count": 6,
     "metadata": {},
     "output_type": "execute_result"
    }
   ],
   "source": [
    "# Answer\n",
    "spam = {'cat':100}\n",
    "spam"
   ]
  },
  {
   "cell_type": "code",
   "execution_count": 8,
   "id": "6ba62e9c",
   "metadata": {},
   "outputs": [
    {
     "data": {
      "text/plain": [
       "True"
      ]
     },
     "execution_count": 8,
     "metadata": {},
     "output_type": "execute_result"
    }
   ],
   "source": [
    "'cat' in spam"
   ]
  },
  {
   "cell_type": "code",
   "execution_count": 9,
   "id": "6a38fc0e",
   "metadata": {},
   "outputs": [
    {
     "data": {
      "text/plain": [
       "True"
      ]
     },
     "execution_count": 9,
     "metadata": {},
     "output_type": "execute_result"
    }
   ],
   "source": [
    "'cat' in spam.keys()"
   ]
  },
  {
   "cell_type": "raw",
   "id": "30147430",
   "metadata": {},
   "source": [
    "Both are same, because in both conditions we are checking same thing. Weather the 'cat' is in the dictionary keys or not."
   ]
  },
  {
   "cell_type": "markdown",
   "id": "08343dba",
   "metadata": {},
   "source": [
    "### Q6"
   ]
  },
  {
   "cell_type": "raw",
   "id": "b3ab385b",
   "metadata": {},
   "source": [
    "6. If a dictionary is stored in spam, what is the difference between the expressions 'cat' in spam and 'cat' in spam.values()?"
   ]
  },
  {
   "cell_type": "code",
   "execution_count": 10,
   "id": "836bd696",
   "metadata": {},
   "outputs": [
    {
     "data": {
      "text/plain": [
       "False"
      ]
     },
     "execution_count": 10,
     "metadata": {},
     "output_type": "execute_result"
    }
   ],
   "source": [
    "Answer:\n",
    "Both are different, because    \n",
    "    \n",
    "'cat' in spam   ==>  Here we are checking for 'cat' as key in the dictionary spam\n",
    "\n",
    "'cat' in spam.values()  ==> Here we are checking for 'cat' as values in any pair of dictionary"
   ]
  },
  {
   "cell_type": "markdown",
   "id": "728f5bb9",
   "metadata": {},
   "source": [
    "### Q7"
   ]
  },
  {
   "cell_type": "raw",
   "id": "6c08f9fb",
   "metadata": {},
   "source": [
    "7. What is a shortcut for the following code?\n",
    "if 'color' not in spam:\n",
    "spam['color'] = 'black'"
   ]
  },
  {
   "cell_type": "code",
   "execution_count": 13,
   "id": "6d24bc6e",
   "metadata": {},
   "outputs": [],
   "source": [
    "# Answer:\n",
    "    \n",
    "spam.setdefault('color','black')"
   ]
  },
  {
   "cell_type": "markdown",
   "id": "f21681e3",
   "metadata": {},
   "source": [
    "### Q8"
   ]
  },
  {
   "cell_type": "raw",
   "id": "6785a159",
   "metadata": {},
   "source": [
    "8. How do you \"pretty print\" dictionary values using which module and function?"
   ]
  },
  {
   "cell_type": "raw",
   "id": "91d7babc",
   "metadata": {},
   "source": [
    "Answer: \n",
    "\n",
    "For pritty print we use model \"pprint\" and function  \"pprint\"\n",
    "Example : "
   ]
  },
  {
   "cell_type": "code",
   "execution_count": 10,
   "id": "9575dcbc",
   "metadata": {},
   "outputs": [
    {
     "name": "stdout",
     "output_type": "stream",
     "text": [
      "{'City': {'Current': 'Pune2', 'Native': 'Pune1'},\n",
      " 'Contact': 123456789,\n",
      " 'Name': 'Chetan'}\n"
     ]
    }
   ],
   "source": [
    "import pprint \n",
    "\n",
    "dict1 = {'Name' : 'Chetan', 'City':{'Native':'Pune1', 'Current':'Pune2'}, 'Contact': 123456789}\n",
    "pprint.pprint(dict1)"
   ]
  }
 ],
 "metadata": {
  "kernelspec": {
   "display_name": "Python 3 (ipykernel)",
   "language": "python",
   "name": "python3"
  },
  "language_info": {
   "codemirror_mode": {
    "name": "ipython",
    "version": 3
   },
   "file_extension": ".py",
   "mimetype": "text/x-python",
   "name": "python",
   "nbconvert_exporter": "python",
   "pygments_lexer": "ipython3",
   "version": "3.11.3"
  }
 },
 "nbformat": 4,
 "nbformat_minor": 5
}
