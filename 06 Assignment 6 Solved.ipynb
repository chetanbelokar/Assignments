{
 "cells": [
  {
   "cell_type": "markdown",
   "id": "61aca9f8",
   "metadata": {},
   "source": [
    "# Assignment 6"
   ]
  },
  {
   "cell_type": "markdown",
   "id": "c92699e8",
   "metadata": {},
   "source": [
    "### Q1"
   ]
  },
  {
   "cell_type": "raw",
   "id": "5f4762ee",
   "metadata": {},
   "source": [
    "Q.1. What are keywords in python? Using the keyword library, print all the python keywords."
   ]
  },
  {
   "cell_type": "code",
   "execution_count": null,
   "id": "e2cb2a0c",
   "metadata": {},
   "outputs": [],
   "source": [
    "Answer:\n",
    "    \n",
    "Python keywords are predefined words for specific uses and \n",
    "we can not use them for other names of variables, functions, and classes. "
   ]
  },
  {
   "cell_type": "code",
   "execution_count": 2,
   "id": "f6ed9742",
   "metadata": {},
   "outputs": [
    {
     "name": "stdout",
     "output_type": "stream",
     "text": [
      "['False', 'None', 'True', 'and', 'as', 'assert', 'async', 'await', 'break', 'class', 'continue', 'def', 'del', 'elif', 'else', 'except', 'finally', 'for', 'from', 'global', 'if', 'import', 'in', 'is', 'lambda', 'nonlocal', 'not', 'or', 'pass', 'raise', 'return', 'try', 'while', 'with', 'yield']\n"
     ]
    }
   ],
   "source": [
    "import keyword\n",
    "k_list = keyword.kwlist\n",
    "print(k_list)"
   ]
  },
  {
   "cell_type": "markdown",
   "id": "a7327e9d",
   "metadata": {},
   "source": [
    "### Q2"
   ]
  },
  {
   "cell_type": "code",
   "execution_count": null,
   "id": "f6adb073",
   "metadata": {},
   "outputs": [],
   "source": [
    "Q.2. What are the rules to create variables in python?"
   ]
  },
  {
   "cell_type": "code",
   "execution_count": null,
   "id": "2dd74bff",
   "metadata": {},
   "outputs": [],
   "source": [
    "Answer:\n",
    "    \n",
    "1. Identifiers can be a combination of letters in lowercase (a to z) or uppercase (A to Z) or digits (0 to 9) or\n",
    "an underscore (_).\n",
    "\n",
    "2. They must start with a letter or the underscore character, but not with a digit.\n",
    "\n",
    "3. Identifiers cannot have special characters such as !, @, #, $, %, etc.\n",
    "\n",
    "4. Python keywords cannot be used as identifiers. \n",
    "\n",
    "5. Case Sensitive\n",
    "\n",
    "7. Built in function names can not be used as identifiers."
   ]
  },
  {
   "cell_type": "markdown",
   "id": "4632b2de",
   "metadata": {},
   "source": [
    "### Q3"
   ]
  },
  {
   "cell_type": "code",
   "execution_count": null,
   "id": "838241a6",
   "metadata": {},
   "outputs": [],
   "source": [
    "Q.3. What are the standards and conventions followed for the nomenclature of variables in\n",
    "python to improve code readability and maintainability?"
   ]
  },
  {
   "cell_type": "code",
   "execution_count": null,
   "id": "b3b40fbf",
   "metadata": {},
   "outputs": [],
   "source": [
    "Answer:\n",
    "    \n",
    "1. Variables should always start with a lower-case character\n",
    "2. Use underscores instead of spaces to separate words\n",
    "3. Don’t use upper-case characters\n",
    "4. Starting with underscores is ok, but is used for a special purpose\n",
    "5. Meaningful and understandable variables name helps anyone to understand the reason of using it.\n",
    "6. The name of the function must describe the reason of using the function clearly and briefly.\n",
    "7. Local variables should be named using camel case lettering starting with small letter (e.g. localData) \n",
    "    whereas Global variables names should start with a capital letter (e.g. GlobalData). \n",
    "    Constant names should be formed using capital letters only (e.g. CONSDATA). "
   ]
  },
  {
   "cell_type": "markdown",
   "id": "d28be613",
   "metadata": {},
   "source": [
    "# Q4"
   ]
  },
  {
   "cell_type": "code",
   "execution_count": null,
   "id": "48d158d9",
   "metadata": {},
   "outputs": [],
   "source": [
    "Q.4. What will happen if a keyword is used as a variable name?"
   ]
  },
  {
   "cell_type": "code",
   "execution_count": null,
   "id": "a0cf43f7",
   "metadata": {},
   "outputs": [],
   "source": [
    "Answer:\n",
    "    \n",
    "we cannot use keyword as variable names, this will give SyntaxError if we try to do that."
   ]
  },
  {
   "cell_type": "code",
   "execution_count": 3,
   "id": "ce6c5bd6",
   "metadata": {},
   "outputs": [
    {
     "ename": "SyntaxError",
     "evalue": "invalid syntax (3806372161.py, line 1)",
     "output_type": "error",
     "traceback": [
      "\u001b[1;36m  Cell \u001b[1;32mIn[3], line 1\u001b[1;36m\u001b[0m\n\u001b[1;33m    and = 12\u001b[0m\n\u001b[1;37m    ^\u001b[0m\n\u001b[1;31mSyntaxError\u001b[0m\u001b[1;31m:\u001b[0m invalid syntax\n"
     ]
    }
   ],
   "source": [
    "# Example\n",
    "\n",
    "and = 12\n",
    "print(and)"
   ]
  },
  {
   "cell_type": "markdown",
   "id": "60d36a02",
   "metadata": {},
   "source": [
    "# Q5"
   ]
  },
  {
   "cell_type": "code",
   "execution_count": null,
   "id": "e298454f",
   "metadata": {},
   "outputs": [],
   "source": [
    "Q.5. For what purpose def keyword is used?"
   ]
  },
  {
   "cell_type": "code",
   "execution_count": null,
   "id": "eaa35806",
   "metadata": {},
   "outputs": [],
   "source": [
    "Answer:\n",
    "\n",
    "In Python 'def 'keyword is used to define a function.\n",
    "Tt is placed before a function name that is provided by the user to create a user-defined function"
   ]
  },
  {
   "cell_type": "markdown",
   "id": "2d839127",
   "metadata": {},
   "source": [
    "# Q6"
   ]
  },
  {
   "cell_type": "code",
   "execution_count": null,
   "id": "41aa5a88",
   "metadata": {},
   "outputs": [],
   "source": [
    "Q.6. What is the operation of this special character ‘\\’?"
   ]
  },
  {
   "cell_type": "code",
   "execution_count": null,
   "id": "66b4725d",
   "metadata": {},
   "outputs": [],
   "source": [
    "Answer:\n",
    "\n",
    "\"\\\" is used as escape character in python. \n",
    "\"\\t\" is used as tab, \"\\n\" is used as newline, and \"\\r\" is a carriage return. \n",
    "When we it as prefix with any special characteristic turns it into an ordinary character.\n",
    "\n",
    "It is also used for division."
   ]
  },
  {
   "cell_type": "markdown",
   "id": "ecc732cb",
   "metadata": {},
   "source": [
    "# Q7"
   ]
  },
  {
   "cell_type": "code",
   "execution_count": null,
   "id": "4f561d5b",
   "metadata": {},
   "outputs": [],
   "source": [
    "Q.7. Give an example of the following conditions:\n",
    "(i) Homogeneous list\n",
    "(ii) Heterogeneous set\n",
    "(iii) Homogeneous tuple"
   ]
  },
  {
   "cell_type": "code",
   "execution_count": null,
   "id": "279a65ec",
   "metadata": {},
   "outputs": [],
   "source": [
    "Answer:\n",
    "    \n",
    "Homogeneous list means , the list contains only  single type of data. \n",
    "A heterogeneous list involves different data types in the same list. \n",
    "Same applies for tuples.\n",
    "    \n",
    "1) Homogeneous list ==> [1,2,3,4,5,6]\n",
    "2) Heterogeneous set ==>  {1,2,3,4,5,6}\n",
    "3) Homogeneous tuple ==> (1,2,3,4,5,6)"
   ]
  },
  {
   "cell_type": "markdown",
   "id": "2aaf3fcc",
   "metadata": {},
   "source": [
    "# Q8"
   ]
  },
  {
   "cell_type": "code",
   "execution_count": null,
   "id": "b92cb0bc",
   "metadata": {},
   "outputs": [],
   "source": [
    "Q.8. Explain the mutable and immutable data types with proper explanation & examples."
   ]
  },
  {
   "cell_type": "raw",
   "id": "904312c6",
   "metadata": {},
   "source": [
    "Answer:\n",
    "    \n",
    "Mutable objects are those that allow to change their value or data in place without affecting the object’s identity. \n",
    "In contrast, immutable objects don’t allow this kind of operation. \n",
    "You’ll just have the option of creating new objects of the same type with different values."
   ]
  },
  {
   "cell_type": "code",
   "execution_count": 12,
   "id": "1b363d81",
   "metadata": {},
   "outputs": [
    {
     "name": "stdout",
     "output_type": "stream",
     "text": [
      "[888, 2, 3, 4, 5, 6]\n"
     ]
    }
   ],
   "source": [
    "# Mutable data types:\n",
    "# List\n",
    "# Set\n",
    "# Dictionary\n",
    "\n",
    "# Example:\n",
    "list1 = [1,2,3,4,5,6]\n",
    "list1[0] = 888\n",
    "print(list1)"
   ]
  },
  {
   "cell_type": "code",
   "execution_count": 13,
   "id": "de3df3ac",
   "metadata": {},
   "outputs": [
    {
     "ename": "TypeError",
     "evalue": "'tuple' object does not support item assignment",
     "output_type": "error",
     "traceback": [
      "\u001b[1;31m---------------------------------------------------------------------------\u001b[0m",
      "\u001b[1;31mTypeError\u001b[0m                                 Traceback (most recent call last)",
      "Cell \u001b[1;32mIn[13], line 8\u001b[0m\n\u001b[0;32m      1\u001b[0m \u001b[38;5;66;03m# Immutable data types\u001b[39;00m\n\u001b[0;32m      2\u001b[0m \u001b[38;5;66;03m# Tuples\u001b[39;00m\n\u001b[0;32m      3\u001b[0m \u001b[38;5;66;03m# Strings\u001b[39;00m\n\u001b[0;32m      4\u001b[0m \u001b[38;5;66;03m# Frozen Sets\u001b[39;00m\n\u001b[0;32m      5\u001b[0m \n\u001b[0;32m      6\u001b[0m \u001b[38;5;66;03m# Example:\u001b[39;00m\n\u001b[0;32m      7\u001b[0m tuple1 \u001b[38;5;241m=\u001b[39m (\u001b[38;5;241m1\u001b[39m,\u001b[38;5;241m2\u001b[39m,\u001b[38;5;241m3\u001b[39m,\u001b[38;5;241m4\u001b[39m,\u001b[38;5;241m5\u001b[39m,\u001b[38;5;241m6\u001b[39m)\n\u001b[1;32m----> 8\u001b[0m \u001b[43mtuple1\u001b[49m\u001b[43m[\u001b[49m\u001b[38;5;241;43m0\u001b[39;49m\u001b[43m]\u001b[49m \u001b[38;5;241m=\u001b[39m \u001b[38;5;241m888\u001b[39m\n\u001b[0;32m      9\u001b[0m \u001b[38;5;28mprint\u001b[39m(tuple1)\n",
      "\u001b[1;31mTypeError\u001b[0m: 'tuple' object does not support item assignment"
     ]
    }
   ],
   "source": [
    "# Immutable data types\n",
    "# Tuples\n",
    "# Strings\n",
    "# Frozen Sets\n",
    "\n",
    "# Example:\n",
    "tuple1 = (1,2,3,4,5,6)\n",
    "tuple1[0] = 888                     # It will give error\n",
    "print(tuple1)"
   ]
  },
  {
   "cell_type": "markdown",
   "id": "5cad1906",
   "metadata": {},
   "source": [
    "### Q9"
   ]
  },
  {
   "cell_type": "raw",
   "id": "f61ff563",
   "metadata": {},
   "source": [
    "Q.9. Write a code to create the given structure using only for loop.\n",
    "    *\n",
    "   ***\n",
    "  *****\n",
    " *******\n",
    "*********"
   ]
  },
  {
   "cell_type": "code",
   "execution_count": 45,
   "id": "9c81203b",
   "metadata": {},
   "outputs": [
    {
     "name": "stdout",
     "output_type": "stream",
     "text": [
      "    *\n",
      "   ***\n",
      "  *****\n",
      " *******\n",
      "*********\n"
     ]
    }
   ],
   "source": [
    "# Answer \n",
    "n = 9\n",
    "x = 4\n",
    "\n",
    "for i in range(1,n+1,2):\n",
    "    print(' '*x + '*'*i)\n",
    "    x-=1"
   ]
  },
  {
   "cell_type": "markdown",
   "id": "17e82ebd",
   "metadata": {},
   "source": [
    "# Q10"
   ]
  },
  {
   "cell_type": "code",
   "execution_count": null,
   "id": "afbe6f61",
   "metadata": {},
   "outputs": [],
   "source": [
    "Q.10. Write a code to create the given structure using while loop.\n",
    "|||||||||\n",
    " |||||||\n",
    "  |||||\n",
    "   |||\n",
    "    |"
   ]
  },
  {
   "cell_type": "code",
   "execution_count": 44,
   "id": "74ccbd7d",
   "metadata": {},
   "outputs": [
    {
     "name": "stdout",
     "output_type": "stream",
     "text": [
      "|||||||||\n",
      " |||||||\n",
      "  |||||\n",
      "   |||\n",
      "    |\n"
     ]
    }
   ],
   "source": [
    "n = 9\n",
    "x = 0\n",
    "for i in range(n,0,-2):\n",
    "    print(' '*x  + '|'*i)\n",
    "    x+=1"
   ]
  }
 ],
 "metadata": {
  "kernelspec": {
   "display_name": "Python 3 (ipykernel)",
   "language": "python",
   "name": "python3"
  },
  "language_info": {
   "codemirror_mode": {
    "name": "ipython",
    "version": 3
   },
   "file_extension": ".py",
   "mimetype": "text/x-python",
   "name": "python",
   "nbconvert_exporter": "python",
   "pygments_lexer": "ipython3",
   "version": "3.11.3"
  }
 },
 "nbformat": 4,
 "nbformat_minor": 5
}
