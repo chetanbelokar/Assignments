{
 "cells": [
  {
   "cell_type": "markdown",
   "id": "9369c4fc",
   "metadata": {},
   "source": [
    "# Assignment No 8"
   ]
  },
  {
   "cell_type": "markdown",
   "id": "1293696f",
   "metadata": {},
   "source": [
    "### Q1"
   ]
  },
  {
   "cell_type": "code",
   "execution_count": null,
   "id": "f0a06d21",
   "metadata": {},
   "outputs": [],
   "source": [
    "1. In Python, what is the difference between a built-in function and a user-defined function? Provide an\n",
    "example of each."
   ]
  },
  {
   "cell_type": "code",
   "execution_count": null,
   "id": "8e76a896",
   "metadata": {},
   "outputs": [],
   "source": [
    "Answer:\n",
    "\n",
    "built-in functions are the fuction which already exist in python and we can direcly use them without defining them.\n",
    "Ex : len , sum , max, etc\n",
    "    \n",
    "user-defined functions are the fuctions which are coded by the used, i.e. created by user.\n",
    "for using them, we need to define the first and them only we can call them\n",
    "Ex :\n",
    "    \n",
    "    def add(a,b):                           # Function defined with keyword \"def\"\n",
    "        return a+b"
   ]
  },
  {
   "cell_type": "markdown",
   "id": "836fc6e3",
   "metadata": {},
   "source": [
    "### Q2"
   ]
  },
  {
   "cell_type": "code",
   "execution_count": null,
   "id": "45c2dabb",
   "metadata": {},
   "outputs": [],
   "source": [
    "2. How can you pass arguments to a function in Python? Explain the difference between positional\n",
    "arguments and keyword arguments."
   ]
  },
  {
   "cell_type": "code",
   "execution_count": null,
   "id": "8ba72cc3",
   "metadata": {},
   "outputs": [],
   "source": [
    "Answer:\n",
    "Arguments can be passed to function by writing them just after the function name, inside the parentheses.\n",
    "These arguments are like inputs to the function.\n",
    "positional arguments and keyword arguments are types of arguments.\n",
    "\n",
    "\n",
    "Positional argument :\n",
    "    This is an argument in the form of variable, value or object and passed to a function as an input\n",
    "    Arguments are passed in the order of parameters and Order of values cannot be changed to avoid the unexpected output.\n",
    "    \n",
    "    a = 5\n",
    "    b = 10\n",
    "    \n",
    "    Ex:\n",
    "        fun_name(a,b):\n",
    "            add = a+b\n",
    "            print(add)\n",
    "\n",
    "keyword arguments :\n",
    "    This is the arguments passed to a function which is preceded by a keyword and an equals sign.\n",
    "    Order of parameter names can be changed to pass the argument, no effect of order.\n",
    "    \n",
    "    Ex:\n",
    "        fun_name(a = 100,b = 200):\n",
    "            add = a+b\n",
    "            print(add)"
   ]
  },
  {
   "cell_type": "markdown",
   "id": "7d3455c2",
   "metadata": {},
   "source": [
    "### Q3"
   ]
  },
  {
   "cell_type": "code",
   "execution_count": null,
   "id": "deb34305",
   "metadata": {},
   "outputs": [],
   "source": [
    "3. What is the purpose of the return statement in a function? Can a function have multiple return\n",
    "statements? Explain with an example."
   ]
  },
  {
   "cell_type": "code",
   "execution_count": null,
   "id": "d29ea4a6",
   "metadata": {},
   "outputs": [],
   "source": [
    "Answer:\n",
    "    \n",
    "The return statement is used to return the output from a function(to get certain value as a output of function).\n",
    "A function can have multiple return statements,but return statement terminates the function execution.\n",
    "Hence, When any one of the return is executed, the function get terminated."
   ]
  },
  {
   "cell_type": "markdown",
   "id": "e79c398d",
   "metadata": {},
   "source": [
    "### Q4"
   ]
  },
  {
   "cell_type": "code",
   "execution_count": null,
   "id": "7b01a76c",
   "metadata": {},
   "outputs": [],
   "source": [
    "4. What are lambda functions in Python? How are they different from regular functions? Provide an\n",
    "example where a lambda function can be useful."
   ]
  },
  {
   "cell_type": "code",
   "execution_count": null,
   "id": "ac36ae49",
   "metadata": {},
   "outputs": [],
   "source": [
    "Answer:\n",
    "    \n",
    "Lambda functions are similar to user-defined functions but without a name. \n",
    "They are commonly referred to as anonymous functions. \n",
    "\n",
    "Lambda functions can only contain a single expression and cannot contain multiple lines of code. \n",
    "while regular functions can contain several lines of code and can be more complex\n",
    "\n",
    "Ex:\n",
    "\n",
    "fun = lambda x,y : x+y\n",
    "fun(10,20)\n",
    "\n",
    "It can be use where function name not required and where less coding reuired "
   ]
  },
  {
   "cell_type": "markdown",
   "id": "8a5e4d4a",
   "metadata": {},
   "source": [
    "### Q5"
   ]
  },
  {
   "cell_type": "code",
   "execution_count": null,
   "id": "2491bc1d",
   "metadata": {},
   "outputs": [],
   "source": [
    "5. How does the concept of \"scope\" apply to functions in Python? Explain the difference between local\n",
    "scope and global scope."
   ]
  },
  {
   "cell_type": "code",
   "execution_count": null,
   "id": "033722bf",
   "metadata": {},
   "outputs": [],
   "source": [
    "Answer:\n",
    "\n",
    "Scope is the code block or body of any Python function\n",
    "    \n",
    "A variable created in the main body of the Python code is a global variable and belongs to the global scope.\n",
    "There is only one global scope.\n",
    "Global variables are available from within any scope, global and local.\n",
    "\n",
    "\n",
    "Local variables are those that are initialized within a function and are unique to that function. \n",
    "It cannot be accessed outside of the function.\n"
   ]
  },
  {
   "cell_type": "markdown",
   "id": "7367f269",
   "metadata": {},
   "source": [
    "### Q6"
   ]
  },
  {
   "cell_type": "code",
   "execution_count": null,
   "id": "2729526e",
   "metadata": {},
   "outputs": [],
   "source": [
    "6. How can you use the \"return\" statement in a Python function to return multiple values?"
   ]
  },
  {
   "cell_type": "code",
   "execution_count": null,
   "id": "5f1a3b0c",
   "metadata": {},
   "outputs": [],
   "source": [
    "Answer:\n",
    "    \n",
    "In Python, you can return multiple values by simply separating them with commas in the return statement. \n",
    "In Python, comma-separated values are treated as tuples, even without parentheses. \n",
    "\n",
    "Ex:\n",
    "    fun_name(a = 100,b = 200):\n",
    "        add = a+b\n",
    "        sub = a-b\n",
    "        return add, sub"
   ]
  },
  {
   "cell_type": "markdown",
   "id": "b2b3df5c",
   "metadata": {},
   "source": [
    "### Q7"
   ]
  },
  {
   "cell_type": "code",
   "execution_count": null,
   "id": "51fa0075",
   "metadata": {},
   "outputs": [],
   "source": [
    "7. What is the difference between the \"pass by value\" and \"pass by reference\" concepts when it \n",
    "comes to function arguments in Python?"
   ]
  },
  {
   "cell_type": "code",
   "execution_count": null,
   "id": "5157b582",
   "metadata": {},
   "outputs": [],
   "source": [
    "Answer:\n",
    "    \n",
    "In pass by value concept, when the value is passed to the function or modifying \n",
    "the value within the function, it does not affect the original value.\n",
    "\n",
    "While in pass by reference concept, a reference or pointer of the original object is passed to the function. \n",
    "As a result, any modifications made within the function directly impact the original object itself."
   ]
  },
  {
   "cell_type": "markdown",
   "id": "a39a36ad",
   "metadata": {},
   "source": [
    "### Q8"
   ]
  },
  {
   "cell_type": "code",
   "execution_count": null,
   "id": "d729551c",
   "metadata": {},
   "outputs": [],
   "source": [
    "8. Create a function that can intake integer or decimal value and do following operations:\n",
    "a. Logarithmic function (log x)\n",
    "b. Exponential function (exp(x))\n",
    "c. Power function with base 2 (2x)\n",
    "d. Square root"
   ]
  },
  {
   "cell_type": "code",
   "execution_count": 3,
   "id": "b236b6ff",
   "metadata": {},
   "outputs": [
    {
     "name": "stdout",
     "output_type": "stream",
     "text": [
      "Insert any number : 5.9\n",
      "a. Logarithmic function (log x) :  1.7749523509116738\n",
      "b. Exponential function (exp(x)) :  365.0374678653289\n",
      "c. Power function with base 2 (2x) :  34.81\n",
      "d. Square root :  2.4289915602982237\n"
     ]
    }
   ],
   "source": [
    "# Answer\n",
    "import math\n",
    "\n",
    "number = 10\n",
    "\n",
    "def MyFun():\n",
    "    num = eval(input(\"Insert any number : \"))\n",
    "    print('a. Logarithmic function (log x) : ', math.log(num))              # Need to import module math\n",
    "    print(\"b. Exponential function (exp(x)) : \", math.exp(num))             # Need to import module math\n",
    "    print(\"c. Power function with base 2 (2x) : \", pow(num,2))              # Opotional ==>  math.pow(num,2)  or  num ** 2\n",
    "    print(\"d. Square root : \", math.sqrt(num))                              # Optional ==> num ** 0.5\n",
    "    \n",
    "MyFun()"
   ]
  },
  {
   "cell_type": "markdown",
   "id": "12f3ae39",
   "metadata": {},
   "source": [
    "### Q9"
   ]
  },
  {
   "cell_type": "code",
   "execution_count": null,
   "id": "022700da",
   "metadata": {},
   "outputs": [],
   "source": [
    "9. Create a function that takes a full name as an argument and returns first name and last name."
   ]
  },
  {
   "cell_type": "code",
   "execution_count": 6,
   "id": "9b1fcaec",
   "metadata": {},
   "outputs": [
    {
     "name": "stdout",
     "output_type": "stream",
     "text": [
      "Enter your full name  :  Rohit Sharma\n",
      "Your first name is  Rohit\n",
      "Your last name is  Sharma\n"
     ]
    }
   ],
   "source": [
    "# Answer\n",
    "\n",
    "def my_fun():\n",
    "    full_name = input('Enter your full name  :  ')\n",
    "    list1 = full_name.split()\n",
    "    print('Your first name is ', list1[0])\n",
    "    print('Your last name is ', list1[-1])\n",
    "    \n",
    "my_fun()"
   ]
  },
  {
   "cell_type": "code",
   "execution_count": null,
   "id": "0d13a482",
   "metadata": {},
   "outputs": [],
   "source": []
  }
 ],
 "metadata": {
  "kernelspec": {
   "display_name": "Python 3 (ipykernel)",
   "language": "python",
   "name": "python3"
  },
  "language_info": {
   "codemirror_mode": {
    "name": "ipython",
    "version": 3
   },
   "file_extension": ".py",
   "mimetype": "text/x-python",
   "name": "python",
   "nbconvert_exporter": "python",
   "pygments_lexer": "ipython3",
   "version": "3.11.3"
  }
 },
 "nbformat": 4,
 "nbformat_minor": 5
}
