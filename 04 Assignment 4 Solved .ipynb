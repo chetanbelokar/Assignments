{
 "cells": [
  {
   "cell_type": "markdown",
   "id": "cf655f60",
   "metadata": {},
   "source": [
    "# Assignment"
   ]
  },
  {
   "cell_type": "markdown",
   "id": "561b066d",
   "metadata": {},
   "source": [
    "### Q1"
   ]
  },
  {
   "cell_type": "raw",
   "id": "54c6ddfc",
   "metadata": {},
   "source": [
    "1. What exactly is []?"
   ]
  },
  {
   "cell_type": "raw",
   "id": "0e99a5a3",
   "metadata": {},
   "source": [
    "Answer :\n",
    "    \n",
    "1. Square brackets are used declare a list ,  Here ==> [] this shows empty list.\n",
    "2. These are also used for indexing in many cases (Ex: String , List, Dict..etc)"
   ]
  },
  {
   "cell_type": "markdown",
   "id": "3b0759a1",
   "metadata": {},
   "source": [
    "### Q2"
   ]
  },
  {
   "cell_type": "raw",
   "id": "d2a88816",
   "metadata": {},
   "source": [
    "2. In a list of values stored in a variable called spam, how would you assign the value 'hello' as the third value? \n",
    "(Assume [2, 4, 6, 8, 10] are in spam.)"
   ]
  },
  {
   "cell_type": "code",
   "execution_count": 2,
   "id": "05330ec7",
   "metadata": {},
   "outputs": [
    {
     "name": "stdout",
     "output_type": "stream",
     "text": [
      "[2, 4, 'hello', 8, 10]\n",
      "[2, 4, 'hello', 6, 8, 10]\n"
     ]
    }
   ],
   "source": [
    "# Answer:\n",
    "\n",
    "# Method 1 : Replace third value with 'hello'\n",
    "\n",
    "spam = [2, 4, 6, 8, 10]                # List Declared\n",
    "spam[2] = 'hello'                      # Third value is at 2nd index , so 'hello' assigned at second index\n",
    "print(spam)\n",
    "\n",
    "# Method 2 : Insert new value as 'hellow' at third position\n",
    "\n",
    "spam = [2, 4, 6, 8, 10]                # List Declared\n",
    "spam.insert(2,'hello')                # Third value is at 2nd index , so 'hello' inserted at second index\n",
    "print(spam)\n"
   ]
  },
  {
   "cell_type": "markdown",
   "id": "251c0f9f",
   "metadata": {},
   "source": [
    "### Q3"
   ]
  },
  {
   "cell_type": "raw",
   "id": "eae1700c",
   "metadata": {},
   "source": [
    "Let's pretend the spam includes the list ['a', 'b', 'c', 'd'] for the next three queries."
   ]
  },
  {
   "cell_type": "raw",
   "id": "9cf42d0c",
   "metadata": {},
   "source": [
    "3. What is the value of spam[int(int('3' * 2) / 11)]?"
   ]
  },
  {
   "cell_type": "raw",
   "id": "96a770b3",
   "metadata": {},
   "source": [
    "# Answer: 'd'\n",
    "\n",
    "# Explanation :\n",
    "\n",
    "\n",
    "spam = ['a', 'b', 'c', 'd']                                   # Given List \n",
    "         \n",
    "\n",
    "'3' * 2    ==>  '33'                                          # string '3' is concatenated 2 times to become '33'\n",
    "int('33')  ==>   33                                           # string '33' type casted to integer as 33\n",
    "\n",
    "(int('3' * 2) / 11)            ==> (33/3)     ==> 3.0         # on dividing 33 by 11 we got 3.0 as float\n",
    "\n",
    "int(int('3' * 2) / 11)         ==> int(11.0)  ==> 11          # 3.0 this is type casted to int as 3\n",
    "\n",
    "spam[int(int('3' * 2) / 11)]   ==> spam[3]    ==> 'd'         # 'd' is present at 3rd index in the list spam\n",
    "\n",
    "\n",
    "So, value for given expression will be 'd'"
   ]
  },
  {
   "cell_type": "markdown",
   "id": "93e67fbb",
   "metadata": {},
   "source": [
    "### Q4"
   ]
  },
  {
   "cell_type": "raw",
   "id": "f82391ce",
   "metadata": {},
   "source": [
    "4. What is the value of spam[-1]?"
   ]
  },
  {
   "cell_type": "code",
   "execution_count": null,
   "id": "507e5b63",
   "metadata": {},
   "outputs": [],
   "source": [
    "Answer : 'd'\n",
    "\n",
    "# spam =  ['a', 'b', 'c', 'd']      ==> Given List \n",
    "# spam[-1] ==> 'd' ==>  Indicated the last item of the list (It is negative indexing method)"
   ]
  },
  {
   "cell_type": "markdown",
   "id": "73a5a437",
   "metadata": {},
   "source": [
    "### Q5"
   ]
  },
  {
   "cell_type": "raw",
   "id": "a2ce046f",
   "metadata": {},
   "source": [
    "5. What is the value of spam[:2]?"
   ]
  },
  {
   "cell_type": "code",
   "execution_count": null,
   "id": "042309f4",
   "metadata": {},
   "outputs": [],
   "source": [
    "Answer : ['a', 'b']\n",
    "\n",
    "# spam[:2] ==> spam[start item : 2nd item] ==> Slicing method (start index = 0,by default)"
   ]
  },
  {
   "cell_type": "markdown",
   "id": "bfa7961d",
   "metadata": {},
   "source": [
    "### Q6"
   ]
  },
  {
   "cell_type": "raw",
   "id": "f87b819f",
   "metadata": {},
   "source": [
    "Let's pretend bacon has the list [3.14, 'cat,' 11, 'cat,' True] for the next three questions."
   ]
  },
  {
   "cell_type": "raw",
   "id": "944feb76",
   "metadata": {},
   "source": [
    "6. What is the value of bacon.index('cat')?"
   ]
  },
  {
   "cell_type": "raw",
   "id": "89ecc0c4",
   "metadata": {},
   "source": [
    "Answer : 1\n",
    "    \n",
    "Explanation:\n",
    "\n",
    "bacon = [3.14, 'cat', 11, 'cat', True]           # List declared and corrected typing mistakes\n",
    "bacon.index('cat')                               # this function will return index of firt match\n",
    "Outpt ==>  1                                     # first 'cat' present at 1st index ...so output will be 1"
   ]
  },
  {
   "cell_type": "markdown",
   "id": "d179f421",
   "metadata": {},
   "source": [
    "### Q7"
   ]
  },
  {
   "cell_type": "raw",
   "id": "fe2d5619",
   "metadata": {},
   "source": [
    "7. How does bacon.append(99) change the look of the list value in bacon?"
   ]
  },
  {
   "cell_type": "code",
   "execution_count": 5,
   "id": "232ef614",
   "metadata": {},
   "outputs": [
    {
     "data": {
      "text/plain": [
       "[3.14, 'cat', 11, 'cat', True, 99]"
      ]
     },
     "execution_count": 5,
     "metadata": {},
     "output_type": "execute_result"
    }
   ],
   "source": [
    "# Answer\n",
    "\n",
    "bacon = [3.14, 'cat', 11, 'cat', True]           # List declared and corrected typing mistakes\n",
    "bacon.append(99)                                 # This function will insert '99' at the last index and same list well get updated.\n",
    "print(bacon)                                     # Output >> bacon = [3.14, 'cat', 11, 'cat', True]           # List declared and corrected typing mistakes"
   ]
  },
  {
   "cell_type": "markdown",
   "id": "173604b1",
   "metadata": {},
   "source": [
    "### Q8"
   ]
  },
  {
   "cell_type": "raw",
   "id": "fc26ffbb",
   "metadata": {},
   "source": [
    "8. How does bacon.remove('cat') change the look of the list in bacon?"
   ]
  },
  {
   "cell_type": "code",
   "execution_count": 7,
   "id": "8a1a3681",
   "metadata": {},
   "outputs": [
    {
     "name": "stdout",
     "output_type": "stream",
     "text": [
      "[3.14, 11, 'cat', True]\n"
     ]
    }
   ],
   "source": [
    "# Answer\n",
    "\n",
    "bacon = [3.14, 'cat', 11, 'cat', True]           # List declared and corrected typing mistakes\n",
    "bacon.remove('cat')                              # This Function removed first match\n",
    "print(bacon)                                     # Output ==> [3.14, 11, 'cat', True]"
   ]
  },
  {
   "cell_type": "markdown",
   "id": "5a050402",
   "metadata": {},
   "source": [
    "### Q9"
   ]
  },
  {
   "cell_type": "raw",
   "id": "31672388",
   "metadata": {},
   "source": [
    "9. What are the list concatenation and list replication operators?"
   ]
  },
  {
   "cell_type": "raw",
   "id": "9aa9e21b",
   "metadata": {},
   "source": [
    "Answer:\n",
    "\n",
    "#################          concatenation         ################\n",
    "\n",
    "List concatenation means joining of two list \n",
    "Ex :\n",
    "  list1 = [1,2,3,4,5]\n",
    "  list2 = [6,7,8,9]\n",
    "  list3 = [1,2,3,4,5,6,7,8,9]                 concatenated list\n",
    "  \n",
    " ways of concatenation \n",
    " \n",
    " 1) list1 + list2                        # concatenation with '+' operator    ==> New list will be created with combination both                                                                                  lists\n",
    " 2) list1.extend(list2)                  # concatenation with extend function ==> all elements of list2 will get added at end of                                                                                  list 1\n",
    "\n",
    "#################          replication         ################\n",
    "\n",
    "list replication means adding same list multiple times\n",
    "\n",
    "Ex :\n",
    "    list1 = [1,2,30] \n",
    "    list2 = [1, 2, 30, 1, 2, 30, 1, 2, 30]      #  replication of list1 (3 times)\n",
    "    \n",
    "    \n",
    "way of replication \n",
    "\n",
    "  list1 * 3  ==>  [1, 2, 30, 1, 2, 30, 1, 2, 30]        # replication with '*' operator  "
   ]
  },
  {
   "cell_type": "markdown",
   "id": "645b71ca",
   "metadata": {},
   "source": [
    "### Q10"
   ]
  },
  {
   "cell_type": "raw",
   "id": "6a2bd614",
   "metadata": {},
   "source": [
    "10. What is difference between the list methods append() and insert()?"
   ]
  },
  {
   "cell_type": "raw",
   "id": "c20096d4",
   "metadata": {},
   "source": [
    "Answer :\n",
    "\n",
    "append ==> this function adds item at the last index of list\n",
    "            Syntax : list1.append(item)\n",
    "insert ==> with this function we can inset item at any index where we want.\n",
    "            Syntax : List1.insert(index,item)"
   ]
  },
  {
   "cell_type": "markdown",
   "id": "eb6e2445",
   "metadata": {},
   "source": [
    "### Q11"
   ]
  },
  {
   "cell_type": "raw",
   "id": "80b6df94",
   "metadata": {},
   "source": [
    "11. What are the two methods for removing items from a list?"
   ]
  },
  {
   "cell_type": "raw",
   "id": "d7454ef6",
   "metadata": {},
   "source": [
    "Answer :\n",
    "\n",
    "Method 1:\n",
    "list1.remove(item)             # Specific item will be deleted from listt1\n",
    "\n",
    "Method 2:\n",
    "\n",
    "list2.pop(index)               # Delets item at specific index and return same item  ... if index is not given..it will delet                                                                                            last item of the list \n",
    "Method 3:\n",
    "\n",
    "del list1[index]               # Delets item at given index"
   ]
  },
  {
   "cell_type": "markdown",
   "id": "7238e13e",
   "metadata": {},
   "source": [
    "### Q12"
   ]
  },
  {
   "cell_type": "raw",
   "id": "d758a46c",
   "metadata": {},
   "source": [
    "12. Describe how list values and string values are identical."
   ]
  },
  {
   "cell_type": "raw",
   "id": "14a594b3",
   "metadata": {},
   "source": [
    "Answer:\n",
    "\n",
    "Similarities:\n",
    "    \n",
    "1)Strings and List both are sequences, they both have positional index, that means indexing & slicing are allowed in both.  \n",
    "2)Item could be anything such as a float, an integer, a string. But shold be in syntax is different,\n",
    "    means for list items will be inside square brackets (comma seperated) while in string items will be \n",
    "3)both strings and lists have lengths.\n",
    "4)We can concatenate or replicate both.\n",
    "5)Some operators are there which can be used for both (Ex : in , not in)\n",
    "6)For loop is applicable for both.(iterable)"
   ]
  },
  {
   "cell_type": "markdown",
   "id": "c21c7976",
   "metadata": {},
   "source": [
    "### Q13"
   ]
  },
  {
   "cell_type": "raw",
   "id": "9d7dd169",
   "metadata": {},
   "source": [
    "13. What's the difference between tuples and lists?"
   ]
  },
  {
   "cell_type": "raw",
   "id": "a911eda3",
   "metadata": {},
   "source": [
    "Answer:\n",
    "    \n",
    "1)Tuples are immutable objects and lists are mutable. This means tuples cannot be changed while lists can be modified. \n",
    "2)Tuples are also more memory efficient than the lists. \n",
    "3)Performing of tuples is better as compaired to lists. Tuple is faster than list.\n",
    "4)Lists consume more memory\n",
    "5)List is more functional than tuples (More methods & functions)\n",
    "6)Unexpected changes and errors are more likely to occur in the list but in a tuple, it is hard to take place.\n",
    "7)Syntax for both are diiferent\n",
    "        Ex:   list ==>  [1,2,3]\n",
    "             Tuple ==>  (1,2,3)"
   ]
  },
  {
   "cell_type": "markdown",
   "id": "a7d1a00a",
   "metadata": {},
   "source": [
    "### Q14"
   ]
  },
  {
   "cell_type": "raw",
   "id": "55cfd240",
   "metadata": {},
   "source": [
    "14. How do you type a tuple value that only contains the integer 42?"
   ]
  },
  {
   "cell_type": "raw",
   "id": "2c2824aa",
   "metadata": {},
   "source": [
    "tuple1 = (42,)          # tuple with sigle value shoul be written with comma"
   ]
  },
  {
   "cell_type": "markdown",
   "id": "e20c019c",
   "metadata": {},
   "source": [
    "### Q15"
   ]
  },
  {
   "cell_type": "raw",
   "id": "dfe8014e",
   "metadata": {},
   "source": [
    "15. How do you get a list value's tuple form? How do you get a tuple value's list form?"
   ]
  },
  {
   "cell_type": "raw",
   "id": "20195ba0",
   "metadata": {},
   "source": [
    "Answer:\n",
    "    \n",
    "This can be done bu type casting\n",
    "\n",
    "1)list to tuple  ==>  list(tuple)    \n",
    "    Ex : tuple1 = (1,2,3)\n",
    "        list1 = list(tuple1)                  # tuple values will be converted to list form\n",
    "\n",
    "1)tuple to list  ==>  tuple(list)    \n",
    "    Ex : list1 = [1,2,3]\n",
    "        tuple1 = tuple(list1)                  # list values will be converted to tuple form"
   ]
  },
  {
   "cell_type": "markdown",
   "id": "13abea7f",
   "metadata": {},
   "source": [
    "### Q16"
   ]
  },
  {
   "cell_type": "raw",
   "id": "55583f0d",
   "metadata": {},
   "source": [
    "16. Variables that \"contain\" list values are not necessarily lists themselves. Instead, what do they contain?"
   ]
  },
  {
   "cell_type": "raw",
   "id": "64ab23e5",
   "metadata": {},
   "source": [
    "Answer:\n",
    "    \n",
    "They contain something called a reference to a list"
   ]
  },
  {
   "cell_type": "markdown",
   "id": "ae898715",
   "metadata": {},
   "source": [
    "### Q17"
   ]
  },
  {
   "cell_type": "raw",
   "id": "bdecafb6",
   "metadata": {},
   "source": [
    "17. How do you distinguish between copy.copy() and copy.deepcopy()?"
   ]
  },
  {
   "cell_type": "raw",
   "id": "c53347fc",
   "metadata": {},
   "source": [
    "Answer:\n",
    "    \n",
    "copy.copy() Return a shallow copy while copy.deepcopy()Return a deep copy.\n",
    "\n",
    "In the case of shallow copy, a reference of an object is copied into another object. \n",
    "It means that any changes made to a copy of an object do reflect in the original object.\n",
    "\n",
    "In the case of deep copy, a copy of the object is copied into another object. \n",
    "It means that any changes made to a copy of the object do not reflect in the original object. "
   ]
  }
 ],
 "metadata": {
  "kernelspec": {
   "display_name": "Python 3 (ipykernel)",
   "language": "python",
   "name": "python3"
  },
  "language_info": {
   "codemirror_mode": {
    "name": "ipython",
    "version": 3
   },
   "file_extension": ".py",
   "mimetype": "text/x-python",
   "name": "python",
   "nbconvert_exporter": "python",
   "pygments_lexer": "ipython3",
   "version": "3.11.3"
  }
 },
 "nbformat": 4,
 "nbformat_minor": 5
}
