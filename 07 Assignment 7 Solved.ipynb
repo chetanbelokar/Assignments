{
 "cells": [
  {
   "cell_type": "markdown",
   "id": "74105900",
   "metadata": {},
   "source": [
    "# Assignment 07 "
   ]
  },
  {
   "cell_type": "markdown",
   "id": "a812244c",
   "metadata": {},
   "source": [
    "### Q1"
   ]
  },
  {
   "cell_type": "code",
   "execution_count": null,
   "id": "600dd7f5",
   "metadata": {},
   "outputs": [],
   "source": [
    "Q.1. Create two int type variables, apply addition, subtraction, division and multiplications\n",
    "and store the results in variables. Then print the data in the following format by calling the\n",
    "variables:\n",
    "First variable is __ & second variable is __.\n",
    "Addition: __ + __ = __\n",
    "Subtraction: __ - __ = __\n",
    "Multiplication: __ * __ = __\n",
    "Division: __ / __ = __"
   ]
  },
  {
   "cell_type": "code",
   "execution_count": 22,
   "id": "f687eeac",
   "metadata": {},
   "outputs": [
    {
     "name": "stdout",
     "output_type": "stream",
     "text": [
      "First variable is 20 & second variable is 10.\n",
      "Addition: 20 + 10 =30\n",
      "Subtraction:  20  -  10  =  10\n",
      "Multiplication: 20 * 10 = 200\n",
      "Division: 20 / 10 = 2.0\n"
     ]
    }
   ],
   "source": [
    "# Answer:\n",
    "\n",
    "var1 = 20               # 1st variable (int type)\n",
    "var2 = 10               # 2nd variable (int type)\n",
    "\n",
    "add = var1 + var2\n",
    "sub = var1 - var2\n",
    "div = var1 / var2\n",
    "mul = var1 * var2\n",
    "\n",
    "print(f'First variable is {var1} & second variable is {var2}.')\n",
    "print(\"Addition: {} + {} ={}\".format(var1,var2,add))\n",
    "print('Subtraction: '  , var1 , ' - ' , var2 , ' = ' , sub)\n",
    "print(f'Multiplication: {var1} * {var2} = {mul}')\n",
    "print(f\"Division: {var1} / {var2} = {div}\")"
   ]
  },
  {
   "cell_type": "markdown",
   "id": "e878008b",
   "metadata": {},
   "source": [
    "### Q2"
   ]
  },
  {
   "cell_type": "code",
   "execution_count": null,
   "id": "22d6a581",
   "metadata": {},
   "outputs": [],
   "source": [
    "Q.2. What is the difference between the following operators:\n",
    "(i) ‘/’ & ‘//’\n",
    "(ii) ‘**’ & ‘^’"
   ]
  },
  {
   "cell_type": "code",
   "execution_count": 11,
   "id": "c7037916",
   "metadata": {},
   "outputs": [
    {
     "name": "stdout",
     "output_type": "stream",
     "text": [
      "Division :  11 / 5 = 2.2\n",
      "Floor Division :  11 / 5 = 2\n"
     ]
    }
   ],
   "source": [
    "# Answer:\n",
    "\n",
    "# (i)\n",
    "\n",
    "#  '/' is used for division and returns quotient as output\n",
    "# '//' is used for floor division and ruturns largest integer that is less than or equal to the result of the division\n",
    "\n",
    "# Ex: \n",
    "num1 = 11\n",
    "num2 = 5\n",
    "\n",
    "division_output = num1 / num2\n",
    "print('Division : ',num1 , '/', num2 , '=', division_output)\n",
    "\n",
    "floor_division_output = num1 // num2\n",
    "print('Floor Division : ',num1 , '/', num2 , '=', floor_division_output)"
   ]
  },
  {
   "cell_type": "code",
   "execution_count": 33,
   "id": "585ba468",
   "metadata": {},
   "outputs": [
    {
     "name": "stdout",
     "output_type": "stream",
     "text": [
      "3 ** 2 = 9\n",
      "3 ^ 2 = 1\n"
     ]
    }
   ],
   "source": [
    "# (ii)\n",
    "\n",
    "# ‘**’ is used for Exponential product (used to give as second number as a power of first number)\n",
    "\n",
    "# ‘^’ is used for Bitwise XOR in binary (Compares each bit of the first operand with the corresponding bit of the second operand. \n",
    "#                             If one of the bits is 1 (but not both), the corresponding result bit is set to 1. \n",
    "#                             Otherwise, the result bit is set to 0.)\n",
    "\n",
    "# Ex:\n",
    "num1 = 3\n",
    "num2 = 2\n",
    "\n",
    "expo = num1 ** num2\n",
    "print(f\"{num1} ** {num2} = {expo}\")\n",
    "\n",
    "bit = num1 ^ num2\n",
    "\n",
    "print(f\"{num1} ^ {num2} = {bit}\")"
   ]
  },
  {
   "cell_type": "markdown",
   "id": "fda8b045",
   "metadata": {},
   "source": [
    "### Q3"
   ]
  },
  {
   "cell_type": "code",
   "execution_count": null,
   "id": "b22dade6",
   "metadata": {},
   "outputs": [],
   "source": [
    "Q.3. List the logical operators."
   ]
  },
  {
   "cell_type": "code",
   "execution_count": 42,
   "id": "1dd66f1e",
   "metadata": {},
   "outputs": [],
   "source": [
    "Answer:\n",
    "    \n",
    "and  ==> Returns True if both statements are true\n",
    "or ==> Returns True if one of the statements is true\n",
    "not ==> returns True if the result is not true\n",
    "\n",
    "Ex :\n",
    "    \n",
    "3>2 and 2<3      ==> True and True ==> True\n",
    "3<2 or 2<3       ==> False and True ==> True\n",
    "not False        ==> True"
   ]
  },
  {
   "cell_type": "markdown",
   "id": "59908fe4",
   "metadata": {},
   "source": [
    "### Q4"
   ]
  },
  {
   "cell_type": "code",
   "execution_count": null,
   "id": "5e47a199",
   "metadata": {},
   "outputs": [],
   "source": [
    "Q.4. Explain right shift operator and left shift operator with examples."
   ]
  },
  {
   "cell_type": "code",
   "execution_count": null,
   "id": "05968945",
   "metadata": {},
   "outputs": [],
   "source": [
    "Answer:\n",
    "    \n",
    "Bitwise right shift: Shifts the bits of the number to the right and fills 0 on voids left\n",
    "    ( fills 1 in the case of a negative number) as a result. \n",
    "    Similar effect as of dividing the number with some power of two.\n",
    "\n",
    "Example :\n",
    "    \n",
    "10 >> 1 \n",
    "\n",
    "Binary of 10 ==> 1010  ==> right shift by 1 ==> 101 ==> int of 101 ==> 5   .... ans is 5\n",
    "\n",
    "Bitwise left shift: Shifts the bits of the number to the left and fills 0 on voids right as a result. \n",
    "            Similar effect as of multiplying the number with some power of two.\n",
    "        \n",
    "Example :\n",
    "    \n",
    "10 << 1\n",
    "\n",
    "Binary of 10 ==> 1010  ==> lect shift by 1 ==> 10100 ==> int of 10100 ==> 20   .... ans is 20"
   ]
  },
  {
   "cell_type": "markdown",
   "id": "47f0e134",
   "metadata": {},
   "source": [
    "### Q5"
   ]
  },
  {
   "cell_type": "code",
   "execution_count": null,
   "id": "a4d8a552",
   "metadata": {},
   "outputs": [],
   "source": [
    "Q.5. Create a list containing int type data of length 15. Then write a code to check if 10 is\n",
    "present in the list or not."
   ]
  },
  {
   "cell_type": "code",
   "execution_count": 29,
   "id": "4add0f3f",
   "metadata": {},
   "outputs": [
    {
     "name": "stdout",
     "output_type": "stream",
     "text": [
      "Number is present in list\n"
     ]
    }
   ],
   "source": [
    "length = 15                                    # Given length\n",
    "num = 10                                       # Number to be checked\n",
    "\n",
    "list1 = list(range(length))                    # Creation of list\n",
    "\n",
    "if num in list1:\n",
    "    print('Number is present in list')\n",
    "else:\n",
    "    print('Number is not in the list')\n"
   ]
  }
 ],
 "metadata": {
  "kernelspec": {
   "display_name": "Python 3 (ipykernel)",
   "language": "python",
   "name": "python3"
  },
  "language_info": {
   "codemirror_mode": {
    "name": "ipython",
    "version": 3
   },
   "file_extension": ".py",
   "mimetype": "text/x-python",
   "name": "python",
   "nbconvert_exporter": "python",
   "pygments_lexer": "ipython3",
   "version": "3.11.3"
  }
 },
 "nbformat": 4,
 "nbformat_minor": 5
}
