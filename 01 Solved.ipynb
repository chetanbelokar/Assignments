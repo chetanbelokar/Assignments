{
 "cells": [
  {
   "cell_type": "markdown",
   "id": "92f93178",
   "metadata": {},
   "source": [
    "# ASSIGNMENT NO 01"
   ]
  },
  {
   "cell_type": "markdown",
   "id": "07d77e89",
   "metadata": {},
   "source": [
    "### Q1"
   ]
  },
  {
   "cell_type": "raw",
   "id": "c58c4ca1",
   "metadata": {},
   "source": [
    "In the below elements which of them are values or an expression? \n",
    "eg:- values can be integer or string and expressions will be mathematical operators.\n",
    "* \n",
    "'hello'\n",
    "-87.8\n",
    "- \n",
    "/ \n",
    "+\t\n",
    "6 "
   ]
  },
  {
   "cell_type": "raw",
   "id": "284dc25f",
   "metadata": {},
   "source": [
    "Answer:\n",
    "\n",
    "*         : expression (mathematical operators)\n",
    "'hello'   : value (string)\n",
    "-87.8     : value (integer)\n",
    "-         : expression (mathematical operators)\n",
    "/         : expression (mathematical operators)\n",
    "+\t      : expression (mathematical operators)\n",
    "6         : value (integer) "
   ]
  },
  {
   "cell_type": "markdown",
   "id": "1c25f684",
   "metadata": {},
   "source": [
    "### Q2"
   ]
  },
  {
   "cell_type": "raw",
   "id": "fd5585cf",
   "metadata": {},
   "source": [
    "2. What is the difference between string and variable?"
   ]
  },
  {
   "cell_type": "raw",
   "id": "8aaf9895",
   "metadata": {},
   "source": [
    "Answer:\n",
    "\n",
    "String is a immutable data type & collection of sequenced character surrounded by single quotes, double quotes, or triple quotes.\n",
    "While, variable is named location to stotre data in the memory.\n"
   ]
  },
  {
   "cell_type": "markdown",
   "id": "bd10d811",
   "metadata": {},
   "source": [
    "### Q3"
   ]
  },
  {
   "cell_type": "raw",
   "id": "e8f9d811",
   "metadata": {},
   "source": [
    "3. Describe three different data types."
   ]
  },
  {
   "cell_type": "raw",
   "id": "7b1db003",
   "metadata": {},
   "source": [
    "Answer:\n",
    "\n",
    "1. Integer: it is a whole number, without fractional component. They can be positive or negative.\n",
    "   Ex : -1,2,4\n",
    "   \n",
    "2. List: It is a collection of different kinds of values or items enclosed by [] and separated by commas.\n",
    "   lists are ordered and mutable.\n",
    "   Ex. : [1,2,\"abc\",3.4]\n",
    "   \n",
    "3. Dictionary: It is an unordered collection of items containing key and value pairs.\n",
    "   It is mutable, its items are enclosed by {} and separated by commas.\n",
    "   key & values are separated by :\n",
    "   Ex : {'A' : 10, 'B' : 20, 'C' : 30}"
   ]
  },
  {
   "cell_type": "markdown",
   "id": "baa23f6a",
   "metadata": {},
   "source": [
    "### Q4"
   ]
  },
  {
   "cell_type": "raw",
   "id": "4aa8860f",
   "metadata": {},
   "source": [
    "4. What is an expression made up of? What do all expressions do?"
   ]
  },
  {
   "cell_type": "raw",
   "id": "36dfda31",
   "metadata": {},
   "source": [
    "Answer:\n",
    "\n",
    "Expressions are made up of operator and operands.\n",
    "expression produce certain value based on type of operater used.\n",
    "\n",
    "Ex : \n",
    "\n",
    "x = 10       # let value of x as 10 (operand)\n",
    "y = 20       # let value of y as 20 (operand)\n",
    "\n",
    "z = x * y    # this is an expression\n",
    "\n",
    "Here multiplication will be performed between the values of 'x' & 'y' and then result value will be assigned to 'Z'"
   ]
  },
  {
   "cell_type": "markdown",
   "id": "31cb138a",
   "metadata": {},
   "source": [
    "### Q5"
   ]
  },
  {
   "cell_type": "raw",
   "id": "38445638",
   "metadata": {},
   "source": [
    "5. This assignment statements, like spam = 10. What is the difference between an expression and a statement?"
   ]
  },
  {
   "cell_type": "raw",
   "id": "35b2fd62",
   "metadata": {},
   "source": [
    "Answer :\n",
    "\n",
    "statements are used to declare or assign values to variables while expressions are made up of operator and values or variables of statatements.\n",
    "\n",
    "Ex : \n",
    "\n",
    "x = 10       # statement\n",
    "y = 20       # statement\n",
    "\n",
    "z = x * y    # expression\n"
   ]
  },
  {
   "cell_type": "markdown",
   "id": "616df35a",
   "metadata": {},
   "source": [
    "### Q6"
   ]
  },
  {
   "cell_type": "raw",
   "id": "27b985e3",
   "metadata": {},
   "source": [
    "6. After running the following code, what does the variable bacon contain?\n",
    "bacon = 22\n",
    "bacon + 1"
   ]
  },
  {
   "cell_type": "raw",
   "id": "6d200936",
   "metadata": {},
   "source": [
    "Answer :\n",
    "\n",
    "22     # value of 'bacon' will remain unchanged"
   ]
  },
  {
   "cell_type": "markdown",
   "id": "91cde418",
   "metadata": {},
   "source": [
    "### Q7"
   ]
  },
  {
   "cell_type": "raw",
   "id": "a31b75fc",
   "metadata": {},
   "source": [
    "7. What should the values of the following two terms be?\n",
    "'spam' + 'spamspam'\n",
    "'spam' * 3"
   ]
  },
  {
   "cell_type": "raw",
   "id": "2636f372",
   "metadata": {},
   "source": [
    "Answer :\n",
    "\n",
    "'spam' + 'spamspam'    => 'spamspamspam'                # string will be attached with their sequence of addition\n",
    "'spam' * 3             => 'spamspamspam'                # string will be added 3 times"
   ]
  },
  {
   "cell_type": "markdown",
   "id": "322efce5",
   "metadata": {},
   "source": [
    "### Q8"
   ]
  },
  {
   "cell_type": "raw",
   "id": "701b2a6c",
   "metadata": {},
   "source": [
    "8. Why is eggs a valid variable name while 100 is invalid?"
   ]
  },
  {
   "cell_type": "raw",
   "id": "6a3d417a",
   "metadata": {},
   "source": [
    "Answer:\n",
    "\n",
    "eggs ia a valid variable name because it follows all identifiers' rules.\n",
    "But, variable name can't be start with number hence 100 is invalid variable name.\n",
    "\n",
    "Identifiers rules :\n",
    "1. Identifiers can be a combination of letters in lowercase (a to z) or uppercase (A to Z) or digits (0 to 9) or an underscore (_).\n",
    "2. It must start with a letter or the underscore character, but not with a digit.\n",
    "3. Identifiers cannot have special characters\n",
    "4. Python Reserved keywords cannot be used as identifiers"
   ]
  },
  {
   "cell_type": "markdown",
   "id": "a77beec6",
   "metadata": {},
   "source": [
    "### Q9"
   ]
  },
  {
   "cell_type": "raw",
   "id": "11e7248b",
   "metadata": {},
   "source": [
    "9. What three functions can be used to get the integer, floating-point number, or string version of a value?"
   ]
  },
  {
   "cell_type": "raw",
   "id": "e67a14d0",
   "metadata": {},
   "source": [
    "Answer :\n",
    "\n",
    "function for interger version of value :  int(value)\n",
    "function for floating-point of value   : float(value)\n",
    "function for string version of value   : str(value)"
   ]
  },
  {
   "cell_type": "markdown",
   "id": "cd943826",
   "metadata": {},
   "source": [
    "### Q10"
   ]
  },
  {
   "cell_type": "raw",
   "id": "284905fd",
   "metadata": {},
   "source": [
    "10. Why does this expression cause an error? How can you fix it?\n",
    "'I have eaten ' + 99 + ' burritos.'"
   ]
  },
  {
   "cell_type": "raw",
   "id": "29e7b08e",
   "metadata": {},
   "source": [
    "Answer:\n",
    "\n",
    "In the geven expression, there are two strings and 1 integer.\n",
    "these are two diffrenet data types and operator between them requires same data types to give result.\n",
    "Here we can give 99 as a string with quotes like '99'\n",
    "\n",
    "input   :  'I have eaten ' + '99' + ' burritos.'\n",
    "output  : 'I have eaten 99 burritos.'"
   ]
  }
 ],
 "metadata": {
  "kernelspec": {
   "display_name": "Python 3 (ipykernel)",
   "language": "python",
   "name": "python3"
  },
  "language_info": {
   "codemirror_mode": {
    "name": "ipython",
    "version": 3
   },
   "file_extension": ".py",
   "mimetype": "text/x-python",
   "name": "python",
   "nbconvert_exporter": "python",
   "pygments_lexer": "ipython3",
   "version": "3.11.3"
  }
 },
 "nbformat": 4,
 "nbformat_minor": 5
}
