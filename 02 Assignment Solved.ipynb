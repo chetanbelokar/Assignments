{
 "cells": [
  {
   "cell_type": "markdown",
   "id": "64cefe0f",
   "metadata": {},
   "source": [
    "# Assignment No 2"
   ]
  },
  {
   "cell_type": "markdown",
   "id": "bc612737",
   "metadata": {},
   "source": [
    "### Q1"
   ]
  },
  {
   "cell_type": "raw",
   "id": "2d0d0b84",
   "metadata": {},
   "source": [
    "1.What are the two values of the Boolean data type? How do you write them?"
   ]
  },
  {
   "cell_type": "raw",
   "id": "f6d283a1",
   "metadata": {},
   "source": [
    "Answer :\n",
    "\n",
    "Two values of the Boolean data type are True & False\n",
    "\n",
    "Way of writing :\n",
    "True\n",
    "False"
   ]
  },
  {
   "cell_type": "markdown",
   "id": "31c9ae87",
   "metadata": {},
   "source": [
    "### Q2"
   ]
  },
  {
   "cell_type": "raw",
   "id": "3d95fc97",
   "metadata": {},
   "source": [
    "2. What are the three different types of Boolean operators?"
   ]
  },
  {
   "cell_type": "raw",
   "id": "9e186b13",
   "metadata": {},
   "source": [
    "Answer:\n",
    "\n",
    "Three types of Boolean operators\n",
    "1. and \n",
    "2. or\n",
    "3. not\n",
    "\n",
    "Relation between boolean data type and boolen operators\n",
    "\n",
    "True  and True   ==>  True\n",
    "True  and False  ==>  False\n",
    "False and True   ==>  False\n",
    "False and False  ==>  False\n",
    "\n",
    "True  or  True   ==>  True\n",
    "True  or  False  ==>  True \n",
    "False or True    ==>  true\n",
    "False or False   ==>  False\n",
    "\n",
    "\n",
    "not False ==> True\n",
    "not True  ==> True"
   ]
  },
  {
   "cell_type": "markdown",
   "id": "df4fd9df",
   "metadata": {},
   "source": [
    "### Q3"
   ]
  },
  {
   "cell_type": "raw",
   "id": "76df57a9",
   "metadata": {},
   "source": [
    "3. Make a list of each Boolean operator's truth tables \n",
    "(i.e. every possible combination of Boolean values for the operator and what it evaluate )."
   ]
  },
  {
   "cell_type": "raw",
   "id": "81689985",
   "metadata": {},
   "source": [
    "Answer :\n",
    "\n",
    "True  and True   ==>  True\n",
    "True  and False  ==>  False\n",
    "False and True   ==>  False\n",
    "False and False  ==>  False\n",
    "\n",
    "True  or  True   ==>  True\n",
    "True  or  False  ==>  True \n",
    "False or True    ==>  true\n",
    "False or False   ==>  False\n",
    "\n",
    "\n",
    "not False ==> True\n",
    "not True  ==> True"
   ]
  },
  {
   "cell_type": "markdown",
   "id": "3ba8e9d9",
   "metadata": {},
   "source": [
    "### Q4"
   ]
  },
  {
   "cell_type": "raw",
   "id": "c966aaf6",
   "metadata": {},
   "source": [
    "4. What are the values of the following expressions?\n",
    "(5 > 4) and (3 == 5)\n",
    "not (5 > 4)\n",
    "(5 > 4) or (3 == 5)\n",
    "not ((5 > 4) or (3 == 5))\n",
    "(True and True) and (True == False)\n",
    "(not False) or (not True)"
   ]
  },
  {
   "cell_type": "raw",
   "id": "8361dd55",
   "metadata": {},
   "source": [
    "# Answer:\n",
    "\n",
    "(5 > 4) and (3 == 5)        ==> False                    # True and False ==> False\n",
    "not (5 > 4)                 ==> False                    # not True       ==> False\n",
    "(5 > 4) or (3 == 5)         ==> True                     # True or True   ==> True\n",
    "not ((5 > 4) or (3 == 5))   ==> False                    # not(True or True) ==> not(True) ==> False\n",
    "(True and True) and (True == False)   ==> False          # True and False ==> False\n",
    "(not False) or (not True)             ==> True           # True or False  ==> True"
   ]
  },
  {
   "cell_type": "markdown",
   "id": "f3e12ba1",
   "metadata": {},
   "source": [
    "### Q5"
   ]
  },
  {
   "cell_type": "raw",
   "id": "e553b155",
   "metadata": {},
   "source": [
    "5. What are the six comparison operators?"
   ]
  },
  {
   "cell_type": "raw",
   "id": "2668dfda",
   "metadata": {},
   "source": [
    "Answer:\n",
    "\n",
    "==\tEqual\t\n",
    "!=\tNot equal\t\n",
    ">\tGreater than\t\n",
    "<\tLess than\t\n",
    ">=\tGreater than or equal to\t\n",
    "<=\tLess than or equal to"
   ]
  },
  {
   "cell_type": "markdown",
   "id": "f5219d09",
   "metadata": {},
   "source": [
    "### Q6"
   ]
  },
  {
   "cell_type": "raw",
   "id": "8e24b325",
   "metadata": {},
   "source": [
    "6. How do you tell the difference between the equal to and assignment operators?\n",
    "Describe a condition and when you would use one."
   ]
  },
  {
   "cell_type": "raw",
   "id": "275266eb",
   "metadata": {},
   "source": [
    "Answer:\n",
    "    \n",
    "Equal to \"=\" is a simple assignment operator and used to assign the value on the right to the variable on the left. \n",
    "\n",
    "\n",
    "Other assignment operators are used as shotcuts\n",
    "deatails and uses are as follow\n",
    "    \n",
    "a += n # Same as a = a + n\n",
    "\n",
    "a -= n # Same as a = a - n\n",
    "\n",
    "a *= n # Same as a = a * n\n",
    "\n",
    "a /= n # Same as a = a / n\n",
    "\n",
    "a %= n # Same as a = a % n\n",
    "\n",
    "a //= n # Same as a = a // n\n",
    "\n",
    "a **= n # Same as a = a ** n\n",
    "\n",
    "a &= n # Same as a = a & n\n",
    "\n",
    "a |= n  # Same as a = a | n\n",
    "\n",
    "a ^= n # Same as a = a ^ n\n",
    "\n",
    "a >>= n # Same as a = a >> n\n",
    "\n",
    "a <<= n # Same as a = a << n\n"
   ]
  },
  {
   "cell_type": "markdown",
   "id": "dabb0e06",
   "metadata": {},
   "source": [
    "### Q7"
   ]
  },
  {
   "cell_type": "raw",
   "id": "acb59b7b",
   "metadata": {},
   "source": [
    "7. Identify the three blocks in this code:\n",
    "spam = 0\n",
    "if spam == 10:\n",
    "print('eggs')\n",
    "if spam > 5:\n",
    "print('bacon')\n",
    "else:\n",
    "print('ham')\n",
    "print('spam')\n",
    "print('spam')"
   ]
  },
  {
   "cell_type": "raw",
   "id": "ef63543c",
   "metadata": {},
   "source": [
    "# Answer\n",
    "\n",
    "spam = 0\n",
    "if spam == 10:                      # Block 1\n",
    "    print('eggs')\n",
    "    \n",
    "if spam > 5:                        # Block 2\n",
    "    print('bacon')\n",
    "    \n",
    "else:                               # Block 3\n",
    "    print('ham')\n",
    "    print('spam')\n",
    "    print('spam')"
   ]
  },
  {
   "cell_type": "markdown",
   "id": "a429b895",
   "metadata": {},
   "source": [
    "### Q8"
   ]
  },
  {
   "cell_type": "raw",
   "id": "a32144e7",
   "metadata": {},
   "source": [
    "8. Write code that prints Hello if 1 is stored in spam, prints Howdy if 2 is stored in spam, \n",
    "and prints Greetings! if anything else is stored in spam."
   ]
  },
  {
   "cell_type": "code",
   "execution_count": 3,
   "id": "1c440dc9",
   "metadata": {},
   "outputs": [
    {
     "name": "stdout",
     "output_type": "stream",
     "text": [
      "Greetings!\n"
     ]
    }
   ],
   "source": [
    "# Answer\n",
    "\n",
    "spam = 3                             # hardcoded input # 3 is stored in variable span \n",
    "if spam == 1:                        # this condition will be false and hence next elif will get exicuted\n",
    "    print('Hello')\n",
    "elif spam == 2:\n",
    "    print('Howdy')                   # this condition will also be false and hence next else will get exicuted\n",
    "else :\n",
    "    print('Greetings!')"
   ]
  },
  {
   "cell_type": "markdown",
   "id": "14e13c07",
   "metadata": {},
   "source": [
    "### Q9"
   ]
  },
  {
   "cell_type": "raw",
   "id": "5309da88",
   "metadata": {},
   "source": [
    "9.If your programme is stuck in an endless loop, what keys you’ll press?"
   ]
  },
  {
   "cell_type": "raw",
   "id": "4eca7488",
   "metadata": {},
   "source": [
    "Answer:\n",
    "\n",
    "Press 'CTRL' + 'C' to break loop, if programme got stuck."
   ]
  },
  {
   "cell_type": "markdown",
   "id": "4970875e",
   "metadata": {},
   "source": [
    "### Q10"
   ]
  },
  {
   "cell_type": "raw",
   "id": "d0d7846a",
   "metadata": {},
   "source": [
    "10. How can you tell the difference between break and continue?"
   ]
  },
  {
   "cell_type": "raw",
   "id": "22b5094f",
   "metadata": {},
   "source": [
    "Answer :\n",
    "    \n",
    "These are used to stop or skip the iterations of the loop.\n",
    "'Break' is used to terminate the complete loop when a particular condition is satisfied\n",
    "while 'continuie' is used to skip current itration but continues with the next iteration."
   ]
  },
  {
   "cell_type": "markdown",
   "id": "3528f6e4",
   "metadata": {},
   "source": [
    "### Q11"
   ]
  },
  {
   "cell_type": "raw",
   "id": "6f204e1a",
   "metadata": {},
   "source": [
    "11. In a for loop, what is the difference between range(10), range(0, 10), and range(0, 10, 1)?"
   ]
  },
  {
   "cell_type": "raw",
   "id": "8a437eb9",
   "metadata": {},
   "source": [
    "Answer :\n",
    "\n",
    "All three have same meaning,\n",
    "\n",
    "range (0,10,1) : means range(start,end,step)\n",
    "start is 0 by default\n",
    "and step is 1 by default\n",
    "\n",
    "Hence weather you give start and step it will bw 0 and 1 respectively."
   ]
  },
  {
   "cell_type": "markdown",
   "id": "b9681170",
   "metadata": {},
   "source": [
    "### Q12"
   ]
  },
  {
   "cell_type": "raw",
   "id": "7b44d224",
   "metadata": {},
   "source": [
    "12. Write a short program that prints the numbers 1 to 10 using a for loop. \n",
    "Then write an equivalent program that prints the numbers 1 to 10 using a while loop."
   ]
  },
  {
   "cell_type": "code",
   "execution_count": 4,
   "id": "d7cc0a95",
   "metadata": {},
   "outputs": [
    {
     "name": "stdout",
     "output_type": "stream",
     "text": [
      "Output with for loop  : \n",
      "0\n",
      "1\n",
      "2\n",
      "3\n",
      "4\n",
      "5\n",
      "6\n",
      "7\n",
      "8\n",
      "9\n",
      "\n",
      "Output with while loop  :\n",
      "1\n",
      "2\n",
      "3\n",
      "4\n",
      "5\n",
      "6\n",
      "7\n",
      "8\n",
      "9\n",
      "10\n"
     ]
    }
   ],
   "source": [
    "# Answer\n",
    "\n",
    "print('Output with for loop  : ')\n",
    "for i in range(10):\n",
    "    print(i)\n",
    "\n",
    "print()\n",
    "print('Output with while loop  :')\n",
    "i=1\n",
    "while i <= 10:\n",
    "    print(i)\n",
    "    i+=1\n"
   ]
  },
  {
   "cell_type": "markdown",
   "id": "e030cf1e",
   "metadata": {},
   "source": [
    "### Q13"
   ]
  },
  {
   "cell_type": "raw",
   "id": "58f72f23",
   "metadata": {},
   "source": [
    "13. If you had a function named bacon() inside a module named spam, how would you call it after importing spam?"
   ]
  },
  {
   "cell_type": "raw",
   "id": "b2ee0da4",
   "metadata": {},
   "source": [
    "Answer:\n",
    "    \n",
    "    \n",
    "Method 1:\n",
    "    \n",
    "import sapm       # first we impoerted modeule spam\n",
    "spam.bacon()      # Now, like this we can call any function from that module(use midule_name.function_name())\n",
    "    \n",
    "    \n",
    "Method 2:\n",
    "\n",
    "import spam as sm     ## first we impoerted modeule spam and rename it as 'sm'\n",
    "sm.bacon()\n",
    "\n"
   ]
  }
 ],
 "metadata": {
  "kernelspec": {
   "display_name": "Python 3 (ipykernel)",
   "language": "python",
   "name": "python3"
  },
  "language_info": {
   "codemirror_mode": {
    "name": "ipython",
    "version": 3
   },
   "file_extension": ".py",
   "mimetype": "text/x-python",
   "name": "python",
   "nbconvert_exporter": "python",
   "pygments_lexer": "ipython3",
   "version": "3.11.3"
  }
 },
 "nbformat": 4,
 "nbformat_minor": 5
}
